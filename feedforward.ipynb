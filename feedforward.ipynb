{
 "cells": [
  {
   "cell_type": "code",
   "execution_count": null,
   "id": "158371a3-fbfc-4bbc-8556-1874c8bb764d",
   "metadata": {},
   "outputs": [],
   "source": [
    "import numpy as np"
   ]
  },
  {
   "cell_type": "code",
   "execution_count": 2,
   "id": "66632360-c4d1-4cb8-8bc7-470940508bbe",
   "metadata": {},
   "outputs": [],
   "source": [
    "inputs=[0.1,0.3,0.5]\n",
    "weights_1=[[0.2,0.4,0.5],\n",
    "           [0.3,0.7,0.1],\n",
    "           [0.2,0.6,0.9]\n",
    "          ]\n",
    "weights_2=[[0.4,0.6,0.1],\n",
    "           [0.2,0.7,0.3],\n",
    "           [0.8,0.1,0.5]\n",
    "          ]\n",
    "weights_3=[[0.2,0.5,0.3],\n",
    "           [0.4,0.6,0.6],\n",
    "           [0.1,0.9,0.7]\n",
    "          ]\n",
    "\n",
    "b1,b2,b3=[0.1,0.1,0.1]"
   ]
  },
  {
   "cell_type": "markdown",
   "id": "e1f55be6-db65-437a-8afa-f1e355dfc752",
   "metadata": {},
   "source": [
    "layer1 opearation "
   ]
  },
  {
   "cell_type": "code",
   "execution_count": null,
   "id": "dacba478-47b3-4d2c-bf9f-c664885adbe1",
   "metadata": {},
   "outputs": [],
   "source": [
    "layer1=np.dotinputs"
   ]
  },
  {
   "cell_type": "code",
   "execution_count": null,
   "id": "859504b5-67ec-4a70-9a5c-8da0f606da73",
   "metadata": {},
   "outputs": [],
   "source": []
  }
 ],
 "metadata": {
  "kernelspec": {
   "display_name": "Python 3",
   "language": "python",
   "name": "python3"
  },
  "language_info": {
   "codemirror_mode": {
    "name": "ipython",
    "version": 3
   },
   "file_extension": ".py",
   "mimetype": "text/x-python",
   "name": "python",
   "nbconvert_exporter": "python",
   "pygments_lexer": "ipython3",
   "version": "3.8.8"
  }
 },
 "nbformat": 4,
 "nbformat_minor": 5
}
